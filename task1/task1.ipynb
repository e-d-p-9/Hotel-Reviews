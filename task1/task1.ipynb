{
 "cells": [
  {
   "cell_type": "markdown",
   "metadata": {},
   "source": [
    "# Cleaned Ag news dataset\n"
   ]
  },
  {
   "cell_type": "markdown",
   "metadata": {},
   "source": [
    "todos:\n",
    "\n",
    "TODO: randomly select 1000 snippets from the 3000 snippets in the dataset\n",
    "\n",
    "TODO: excel spreadsheet contains three columns: the first is index, the second is the class \n",
    "       label (what kind of article) and the third colum is the news snippet.\n",
    "\n",
    "TODO: split each instance into 5 parts containing 20% 40 60 80 100 of the words in the snippet from the beginning\n",
    "\n",
    "TODO: this will give you a file with 5,000 sub instances please include the index and the calss labels\n",
    "       when you split each instance into sub-instances.\n",
    "\n",
    "TODO: save as excel spreadhsehet file .xlsx and see if numbers can do that\n",
    "\n",
    "TODO: what to do about non words like punctuation. currently each individual puncuation would be counted as a word and a space would be added\n",
    "      between all punctuations even repeating ones -_-_-_-_ - _ - _ etc\n",
    "\n",
    "TODO: include header column for percent of full?"
   ]
  },
  {
   "cell_type": "markdown",
   "metadata": {},
   "source": [
    "<hr>"
   ]
  },
  {
   "cell_type": "code",
   "execution_count": 1,
   "metadata": {},
   "outputs": [],
   "source": [
    "import pandas as pd"
   ]
  },
  {
   "cell_type": "code",
   "execution_count": 2,
   "metadata": {},
   "outputs": [],
   "source": [
    "# read in xlsx file into pandas\n",
    "reviews_df = pd.read_excel(\"../task1/datachakra.xlsx\")\n"
   ]
  },
  {
   "cell_type": "code",
   "execution_count": 3,
   "metadata": {},
   "outputs": [
    {
     "data": {
      "text/html": [
       "<div>\n",
       "<style scoped>\n",
       "    .dataframe tbody tr th:only-of-type {\n",
       "        vertical-align: middle;\n",
       "    }\n",
       "\n",
       "    .dataframe tbody tr th {\n",
       "        vertical-align: top;\n",
       "    }\n",
       "\n",
       "    .dataframe thead th {\n",
       "        text-align: right;\n",
       "    }\n",
       "</style>\n",
       "<table border=\"1\" class=\"dataframe\">\n",
       "  <thead>\n",
       "    <tr style=\"text-align: right;\">\n",
       "      <th></th>\n",
       "      <th>Unnamed: 0</th>\n",
       "      <th>Class Index</th>\n",
       "      <th>Description</th>\n",
       "    </tr>\n",
       "  </thead>\n",
       "  <tbody>\n",
       "    <tr>\n",
       "      <th>0</th>\n",
       "      <td>84222</td>\n",
       "      <td>2</td>\n",
       "      <td>VILLANOVA - The difference between Amelie Maur...</td>\n",
       "    </tr>\n",
       "    <tr>\n",
       "      <th>1</th>\n",
       "      <td>80954</td>\n",
       "      <td>4</td>\n",
       "      <td>Intel is readying a line of consumer electroni...</td>\n",
       "    </tr>\n",
       "    <tr>\n",
       "      <th>2</th>\n",
       "      <td>47694</td>\n",
       "      <td>1</td>\n",
       "      <td>Two members of Izzedin al Qassam Brigades, the...</td>\n",
       "    </tr>\n",
       "    <tr>\n",
       "      <th>3</th>\n",
       "      <td>62416</td>\n",
       "      <td>2</td>\n",
       "      <td>The gale that engulfed England 39;s footballer...</td>\n",
       "    </tr>\n",
       "    <tr>\n",
       "      <th>4</th>\n",
       "      <td>114230</td>\n",
       "      <td>4</td>\n",
       "      <td>Chip-making technique to fuel AMD64, PowerPC, ...</td>\n",
       "    </tr>\n",
       "    <tr>\n",
       "      <th>...</th>\n",
       "      <td>...</td>\n",
       "      <td>...</td>\n",
       "      <td>...</td>\n",
       "    </tr>\n",
       "    <tr>\n",
       "      <th>2995</th>\n",
       "      <td>28292</td>\n",
       "      <td>3</td>\n",
       "      <td>Santander Central Hispano 39;s Chairman Emilio...</td>\n",
       "    </tr>\n",
       "    <tr>\n",
       "      <th>2996</th>\n",
       "      <td>43878</td>\n",
       "      <td>4</td>\n",
       "      <td>MOJAVE, Calif. Sept. 29, 2004 - After recoveri...</td>\n",
       "    </tr>\n",
       "    <tr>\n",
       "      <th>2997</th>\n",
       "      <td>65347</td>\n",
       "      <td>3</td>\n",
       "      <td>Crude oil prices rose back up over  $53 a barr...</td>\n",
       "    </tr>\n",
       "    <tr>\n",
       "      <th>2998</th>\n",
       "      <td>16023</td>\n",
       "      <td>2</td>\n",
       "      <td>even if you were behind home plate, with Curt ...</td>\n",
       "    </tr>\n",
       "    <tr>\n",
       "      <th>2999</th>\n",
       "      <td>52746</td>\n",
       "      <td>3</td>\n",
       "      <td>Johnson  amp; Johnson's neck stent is as effec...</td>\n",
       "    </tr>\n",
       "  </tbody>\n",
       "</table>\n",
       "<p>3000 rows × 3 columns</p>\n",
       "</div>"
      ],
      "text/plain": [
       "      Unnamed: 0  Class Index  \\\n",
       "0          84222            2   \n",
       "1          80954            4   \n",
       "2          47694            1   \n",
       "3          62416            2   \n",
       "4         114230            4   \n",
       "...          ...          ...   \n",
       "2995       28292            3   \n",
       "2996       43878            4   \n",
       "2997       65347            3   \n",
       "2998       16023            2   \n",
       "2999       52746            3   \n",
       "\n",
       "                                            Description  \n",
       "0     VILLANOVA - The difference between Amelie Maur...  \n",
       "1     Intel is readying a line of consumer electroni...  \n",
       "2     Two members of Izzedin al Qassam Brigades, the...  \n",
       "3     The gale that engulfed England 39;s footballer...  \n",
       "4     Chip-making technique to fuel AMD64, PowerPC, ...  \n",
       "...                                                 ...  \n",
       "2995  Santander Central Hispano 39;s Chairman Emilio...  \n",
       "2996  MOJAVE, Calif. Sept. 29, 2004 - After recoveri...  \n",
       "2997  Crude oil prices rose back up over  $53 a barr...  \n",
       "2998  even if you were behind home plate, with Curt ...  \n",
       "2999  Johnson  amp; Johnson's neck stent is as effec...  \n",
       "\n",
       "[3000 rows x 3 columns]"
      ]
     },
     "execution_count": 3,
     "metadata": {},
     "output_type": "execute_result"
    }
   ],
   "source": [
    "reviews_df"
   ]
  },
  {
   "cell_type": "code",
   "execution_count": null,
   "metadata": {},
   "outputs": [],
   "source": []
  },
  {
   "cell_type": "code",
   "execution_count": null,
   "metadata": {},
   "outputs": [],
   "source": []
  },
  {
   "cell_type": "code",
   "execution_count": null,
   "metadata": {},
   "outputs": [],
   "source": []
  },
  {
   "cell_type": "code",
   "execution_count": null,
   "metadata": {},
   "outputs": [],
   "source": [
    "def split_reviews(df):\n",
    "    '''Splits the cleaned news data set into 5 equal parts and returns a new dataframe.\n",
    "\n",
    "    Arguments: df (the pandas dataframe read in from the xlsx file) using pandas.read_excel\n",
    "    \n",
    "    Returns: A new dataframe containing the 5 splits is returned.\n",
    "    '''\n",
    "    \n",
    "    # initialize new empty dataframe to hold splits\n",
    "    # TODO: different headers missing review response and user id\n",
    "    split_df = pd.DataFrame(columns=['User_ID', 'Review_Description', 'Percent_of_Full_Review', 'Is_Happy_Response'])\n",
    "    \n",
    "    # iterate through the reviews dataframe\n",
    "    for index in df.index:\n",
    "        # output index for status check\n",
    "        print(f\"{index} of {len(df)}\")\n",
    "        # get the current rows review\n",
    "        review_message = df.loc[index]['Description']\n",
    "        # split into list to separate based off of word count\n",
    "        review_message_list = review_message.split()\n",
    "        # get number of words in review for calculating split\n",
    "        num_words = len(review_message_list)\n",
    "        # split into 20, 40, 60, 80, 100\n",
    "        twenty = review_message_list[:int(num_words *0.2)]\n",
    "        fourty = review_message_list[:int(num_words *0.4)]\n",
    "        sixty = review_message_list[:int(num_words *0.6)]\n",
    "        eighty = review_message_list[:int(num_words *0.8)]\n",
    "        # convert split lists back into strings\n",
    "        twenty = ' '.join(twenty)\n",
    "        fourty = ' '.join(fourty)\n",
    "        sixty = ' '.join(sixty)\n",
    "        eighty = ' '.join(eighty)\n",
    "        hundred = review_message\n",
    "    \n",
    "        # append to split dataframe\n",
    "        split_df.loc[len(split_df), split_df.columns] = df.loc[index]['User_ID'], twenty, 20, df.loc[index]['Is_Response']\n",
    "        split_df.loc[len(split_df), split_df.columns] = df.loc[index]['User_ID'], fourty, 40, df.loc[index]['Is_Response']\n",
    "        split_df.loc[len(split_df), split_df.columns] = df.loc[index]['User_ID'], sixty, 60, df.loc[index]['Is_Response']\n",
    "        split_df.loc[len(split_df), split_df.columns] = df.loc[index]['User_ID'], eighty, 80, df.loc[index]['Is_Response']\n",
    "        split_df.loc[len(split_df), split_df.columns] = df.loc[index]['User_ID'], hundred, 100, df.loc[index]['Is_Response']\n",
    "    \n",
    "    # return the new dataframe containing the 5 splits of the review message\n",
    "    return split_df"
   ]
  },
  {
   "cell_type": "code",
   "execution_count": null,
   "metadata": {},
   "outputs": [],
   "source": []
  },
  {
   "cell_type": "code",
   "execution_count": null,
   "metadata": {},
   "outputs": [],
   "source": []
  },
  {
   "cell_type": "code",
   "execution_count": null,
   "metadata": {},
   "outputs": [],
   "source": []
  }
 ],
 "metadata": {
  "kernelspec": {
   "display_name": "base2",
   "language": "python",
   "name": "python3"
  },
  "language_info": {
   "codemirror_mode": {
    "name": "ipython",
    "version": 3
   },
   "file_extension": ".py",
   "mimetype": "text/x-python",
   "name": "python",
   "nbconvert_exporter": "python",
   "pygments_lexer": "ipython3",
   "version": "3.11.5"
  }
 },
 "nbformat": 4,
 "nbformat_minor": 2
}

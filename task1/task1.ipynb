{
 "cells": [
  {
   "cell_type": "markdown",
   "metadata": {},
   "source": [
    "# Cleaned Ag news dataset\n"
   ]
  },
  {
   "cell_type": "markdown",
   "metadata": {},
   "source": [
    "TODO: split each instance into 5 parts containing 20% 40 60 80 100 of the words in the snippet from the beginning\n",
    "\n",
    "TODO: this will give you a file with 5,000 sub instances please include the index and the calss labels\n",
    "       when you split each instance into sub-instances.\n",
    "\n",
    "TODO: save as excel spreadhsehet file .xlsx and see if numbers can do that\n",
    "\n",
    "TODO: what to do about non words like punctuation. currently each individual puncuation would be counted as a word and a space would be added\n",
    "      between all punctuations even repeating ones -_-_-_-_ - _ - _ etc\n",
    "\n",
    "TODO: include header column for percent of full?"
   ]
  },
  {
   "cell_type": "markdown",
   "metadata": {},
   "source": [
    "<hr>"
   ]
  },
  {
   "cell_type": "code",
   "execution_count": 1,
   "metadata": {},
   "outputs": [],
   "source": [
    "# import pandas\n",
    "import pandas as pd"
   ]
  },
  {
   "cell_type": "code",
   "execution_count": 19,
   "metadata": {},
   "outputs": [],
   "source": [
    "# read in xlsx file news data set using pandas\n",
    "news_df = pd.read_excel(\"../task1/datachakra.xlsx\")"
   ]
  },
  {
   "cell_type": "code",
   "execution_count": 22,
   "metadata": {},
   "outputs": [],
   "source": [
    "# get random 1000 samples of the total 3000\n",
    "news_df_1000 = news_df.sample(n=2)"
   ]
  },
  {
   "cell_type": "code",
   "execution_count": 23,
   "metadata": {},
   "outputs": [
    {
     "data": {
      "text/html": [
       "<div>\n",
       "<style scoped>\n",
       "    .dataframe tbody tr th:only-of-type {\n",
       "        vertical-align: middle;\n",
       "    }\n",
       "\n",
       "    .dataframe tbody tr th {\n",
       "        vertical-align: top;\n",
       "    }\n",
       "\n",
       "    .dataframe thead th {\n",
       "        text-align: right;\n",
       "    }\n",
       "</style>\n",
       "<table border=\"1\" class=\"dataframe\">\n",
       "  <thead>\n",
       "    <tr style=\"text-align: right;\">\n",
       "      <th></th>\n",
       "      <th>Article Index</th>\n",
       "      <th>Class Index</th>\n",
       "      <th>Description</th>\n",
       "    </tr>\n",
       "  </thead>\n",
       "  <tbody>\n",
       "    <tr>\n",
       "      <th>1325</th>\n",
       "      <td>41241</td>\n",
       "      <td>4</td>\n",
       "      <td>A new technology capable of storing the equiva...</td>\n",
       "    </tr>\n",
       "    <tr>\n",
       "      <th>1400</th>\n",
       "      <td>19997</td>\n",
       "      <td>2</td>\n",
       "      <td>AP - Replacement starter Travis Smith pitched ...</td>\n",
       "    </tr>\n",
       "  </tbody>\n",
       "</table>\n",
       "</div>"
      ],
      "text/plain": [
       "      Article Index  Class Index  \\\n",
       "1325          41241            4   \n",
       "1400          19997            2   \n",
       "\n",
       "                                            Description  \n",
       "1325  A new technology capable of storing the equiva...  \n",
       "1400  AP - Replacement starter Travis Smith pitched ...  "
      ]
     },
     "execution_count": 23,
     "metadata": {},
     "output_type": "execute_result"
    }
   ],
   "source": [
    "# display the 1000 subset\n",
    "news_df_1000"
   ]
  },
  {
   "cell_type": "code",
   "execution_count": 29,
   "metadata": {},
   "outputs": [],
   "source": [
    "def five_split_df(df):\n",
    "    '''Splits the cleaned news data set into 5 equal parts and returns a new dataframe.\n",
    "\n",
    "    Arguments: df (the pandas dataframe read in from the xlsx file) using pandas.read_excel\n",
    "    \n",
    "    Returns: A new dataframe containing the 5 splits is returned.\n",
    "    '''\n",
    "    \n",
    "    # initialize new empty dataframe to hold splits\n",
    "    # TODO: different headers missing review response and user id\n",
    "    split_df = pd.DataFrame(columns=['Article Index', 'Class Index', 'Description', 'Percent of Full'])\n",
    "    \n",
    "    i = 1\n",
    "    # iterate through the reviews dataframe\n",
    "    for index in df.index:\n",
    "\n",
    "        # output index for status check\n",
    "        print(f\"{i} of {len(df)}\")\n",
    "        i += 1\n",
    "\n",
    "        # get the current rows description\n",
    "        description = df.loc[index]['Description']\n",
    "        # split into list to separate based off of word count\n",
    "        description_list = description.split()\n",
    "\n",
    "        # get number of words in review for calculating split\n",
    "        num_words = len(description_list)\n",
    "        # split into 20, 40, 60, 80, 100\n",
    "        twenty = description_list[:int(num_words *0.2)]\n",
    "        fourty = description_list[:int(num_words *0.4)]\n",
    "        sixty = description_list[:int(num_words *0.6)]\n",
    "        eighty = description_list[:int(num_words *0.8)]\n",
    "\n",
    "        # convert split lists back into strings\n",
    "        twenty = ' '.join(twenty)\n",
    "        fourty = ' '.join(fourty)\n",
    "        sixty = ' '.join(sixty)\n",
    "        eighty = ' '.join(eighty)\n",
    "        hundred = description\n",
    "    \n",
    "        # append to split dataframe\n",
    "        split_df.loc[len(split_df), split_df.columns] = df.loc[index]['Article Index'], df.loc[index]['Class Index'], twenty, 20\n",
    "        split_df.loc[len(split_df), split_df.columns] = df.loc[index]['Article Index'], df.loc[index]['Class Index'], fourty, 40\n",
    "        split_df.loc[len(split_df), split_df.columns] = df.loc[index]['Article Index'], df.loc[index]['Class Index'], sixty, 60\n",
    "        split_df.loc[len(split_df), split_df.columns] = df.loc[index]['Article Index'], df.loc[index]['Class Index'], eighty, 80\n",
    "        split_df.loc[len(split_df), split_df.columns] = df.loc[index]['Article Index'], df.loc[index]['Class Index'], hundred, 100\n",
    "    \n",
    "    # return the new dataframe containing the 5 splits of the review message\n",
    "    return split_df"
   ]
  },
  {
   "cell_type": "code",
   "execution_count": 31,
   "metadata": {},
   "outputs": [
    {
     "name": "stdout",
     "output_type": "stream",
     "text": [
      "1 of 2\n",
      "2 of 2\n"
     ]
    },
    {
     "data": {
      "text/html": [
       "<div>\n",
       "<style scoped>\n",
       "    .dataframe tbody tr th:only-of-type {\n",
       "        vertical-align: middle;\n",
       "    }\n",
       "\n",
       "    .dataframe tbody tr th {\n",
       "        vertical-align: top;\n",
       "    }\n",
       "\n",
       "    .dataframe thead th {\n",
       "        text-align: right;\n",
       "    }\n",
       "</style>\n",
       "<table border=\"1\" class=\"dataframe\">\n",
       "  <thead>\n",
       "    <tr style=\"text-align: right;\">\n",
       "      <th></th>\n",
       "      <th>Article Index</th>\n",
       "      <th>Class Index</th>\n",
       "      <th>Description</th>\n",
       "      <th>Percent of Full</th>\n",
       "    </tr>\n",
       "  </thead>\n",
       "  <tbody>\n",
       "    <tr>\n",
       "      <th>0</th>\n",
       "      <td>41241</td>\n",
       "      <td>4</td>\n",
       "      <td>A new technology capable of</td>\n",
       "      <td>20</td>\n",
       "    </tr>\n",
       "    <tr>\n",
       "      <th>1</th>\n",
       "      <td>41241</td>\n",
       "      <td>4</td>\n",
       "      <td>A new technology capable of storing the equiva...</td>\n",
       "      <td>40</td>\n",
       "    </tr>\n",
       "    <tr>\n",
       "      <th>2</th>\n",
       "      <td>41241</td>\n",
       "      <td>4</td>\n",
       "      <td>A new technology capable of storing the equiva...</td>\n",
       "      <td>60</td>\n",
       "    </tr>\n",
       "    <tr>\n",
       "      <th>3</th>\n",
       "      <td>41241</td>\n",
       "      <td>4</td>\n",
       "      <td>A new technology capable of storing the equiva...</td>\n",
       "      <td>80</td>\n",
       "    </tr>\n",
       "    <tr>\n",
       "      <th>4</th>\n",
       "      <td>41241</td>\n",
       "      <td>4</td>\n",
       "      <td>A new technology capable of storing the equiva...</td>\n",
       "      <td>100</td>\n",
       "    </tr>\n",
       "    <tr>\n",
       "      <th>5</th>\n",
       "      <td>19997</td>\n",
       "      <td>2</td>\n",
       "      <td>AP - Replacement starter Travis Smith</td>\n",
       "      <td>20</td>\n",
       "    </tr>\n",
       "    <tr>\n",
       "      <th>6</th>\n",
       "      <td>19997</td>\n",
       "      <td>2</td>\n",
       "      <td>AP - Replacement starter Travis Smith pitched ...</td>\n",
       "      <td>40</td>\n",
       "    </tr>\n",
       "    <tr>\n",
       "      <th>7</th>\n",
       "      <td>19997</td>\n",
       "      <td>2</td>\n",
       "      <td>AP - Replacement starter Travis Smith pitched ...</td>\n",
       "      <td>60</td>\n",
       "    </tr>\n",
       "    <tr>\n",
       "      <th>8</th>\n",
       "      <td>19997</td>\n",
       "      <td>2</td>\n",
       "      <td>AP - Replacement starter Travis Smith pitched ...</td>\n",
       "      <td>80</td>\n",
       "    </tr>\n",
       "    <tr>\n",
       "      <th>9</th>\n",
       "      <td>19997</td>\n",
       "      <td>2</td>\n",
       "      <td>AP - Replacement starter Travis Smith pitched ...</td>\n",
       "      <td>100</td>\n",
       "    </tr>\n",
       "  </tbody>\n",
       "</table>\n",
       "</div>"
      ],
      "text/plain": [
       "  Article Index Class Index  \\\n",
       "0         41241           4   \n",
       "1         41241           4   \n",
       "2         41241           4   \n",
       "3         41241           4   \n",
       "4         41241           4   \n",
       "5         19997           2   \n",
       "6         19997           2   \n",
       "7         19997           2   \n",
       "8         19997           2   \n",
       "9         19997           2   \n",
       "\n",
       "                                         Description Percent of Full  \n",
       "0                        A new technology capable of              20  \n",
       "1  A new technology capable of storing the equiva...              40  \n",
       "2  A new technology capable of storing the equiva...              60  \n",
       "3  A new technology capable of storing the equiva...              80  \n",
       "4  A new technology capable of storing the equiva...             100  \n",
       "5              AP - Replacement starter Travis Smith              20  \n",
       "6  AP - Replacement starter Travis Smith pitched ...              40  \n",
       "7  AP - Replacement starter Travis Smith pitched ...              60  \n",
       "8  AP - Replacement starter Travis Smith pitched ...              80  \n",
       "9  AP - Replacement starter Travis Smith pitched ...             100  "
      ]
     },
     "execution_count": 31,
     "metadata": {},
     "output_type": "execute_result"
    }
   ],
   "source": [
    "split_df = five_split_df(news_df_1000)\n",
    "split_df"
   ]
  },
  {
   "cell_type": "code",
   "execution_count": 32,
   "metadata": {},
   "outputs": [],
   "source": [
    "split_df.to_csv('test.csv', sep=',', index=False, encoding='utf-8')"
   ]
  },
  {
   "cell_type": "code",
   "execution_count": 33,
   "metadata": {},
   "outputs": [],
   "source": [
    "split_df.to_excel('test.xlsx')"
   ]
  },
  {
   "cell_type": "code",
   "execution_count": null,
   "metadata": {},
   "outputs": [],
   "source": []
  }
 ],
 "metadata": {
  "kernelspec": {
   "display_name": "base2",
   "language": "python",
   "name": "python3"
  },
  "language_info": {
   "codemirror_mode": {
    "name": "ipython",
    "version": 3
   },
   "file_extension": ".py",
   "mimetype": "text/x-python",
   "name": "python",
   "nbconvert_exporter": "python",
   "pygments_lexer": "ipython3",
   "version": "3.11.5"
  }
 },
 "nbformat": 4,
 "nbformat_minor": 2
}

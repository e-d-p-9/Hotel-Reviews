{
 "cells": [
  {
   "cell_type": "markdown",
   "metadata": {},
   "source": [
    "# regroup random shuffle done in Numbers by article index with pandas"
   ]
  },
  {
   "cell_type": "code",
   "execution_count": 2,
   "metadata": {},
   "outputs": [
    {
     "name": "stderr",
     "output_type": "stream",
     "text": [
      "/var/folders/q6/7cdr_lr528137k1jpb413r7h0000gn/T/ipykernel_11859/4080736814.py:1: DeprecationWarning: \n",
      "Pyarrow will become a required dependency of pandas in the next major release of pandas (pandas 3.0),\n",
      "(to allow more performant data types, such as the Arrow string type, and better interoperability with other libraries)\n",
      "but was not found to be installed on your system.\n",
      "If this would cause problems for you,\n",
      "please provide us feedback at https://github.com/pandas-dev/pandas/issues/54466\n",
      "        \n",
      "  import pandas as pd\n"
     ]
    }
   ],
   "source": [
    "import pandas as pd"
   ]
  },
  {
   "cell_type": "code",
   "execution_count": 3,
   "metadata": {},
   "outputs": [
    {
     "data": {
      "text/plain": [
       "<module 'pandas' from '/Users/ethan/venvs/session/lib/python3.9/site-packages/pandas/__init__.py'>"
      ]
     },
     "execution_count": 3,
     "metadata": {},
     "output_type": "execute_result"
    }
   ],
   "source": [
    "pd"
   ]
  },
  {
   "cell_type": "code",
   "execution_count": 4,
   "metadata": {},
   "outputs": [],
   "source": [
    "# read in the randomly shuffled dataset\n",
    "shuffled_data = pd.read_csv('/Users/ethan/GitHub_Desktop/Hotel-Reviews/task1/output/randomized.csv', index_col='Unnamed: 0')"
   ]
  },
  {
   "cell_type": "code",
   "execution_count": 5,
   "metadata": {},
   "outputs": [
    {
     "data": {
      "text/html": [
       "<div>\n",
       "<style scoped>\n",
       "    .dataframe tbody tr th:only-of-type {\n",
       "        vertical-align: middle;\n",
       "    }\n",
       "\n",
       "    .dataframe tbody tr th {\n",
       "        vertical-align: top;\n",
       "    }\n",
       "\n",
       "    .dataframe thead th {\n",
       "        text-align: right;\n",
       "    }\n",
       "</style>\n",
       "<table border=\"1\" class=\"dataframe\">\n",
       "  <thead>\n",
       "    <tr style=\"text-align: right;\">\n",
       "      <th></th>\n",
       "      <th>Article Index</th>\n",
       "      <th>Part</th>\n",
       "      <th>Percentage</th>\n",
       "    </tr>\n",
       "  </thead>\n",
       "  <tbody>\n",
       "    <tr>\n",
       "      <th>1024</th>\n",
       "      <td>17267</td>\n",
       "      <td>The European Central Bank on Thursday raised i...</td>\n",
       "      <td>100</td>\n",
       "    </tr>\n",
       "    <tr>\n",
       "      <th>4483</th>\n",
       "      <td>9309</td>\n",
       "      <td>The biggest takeover battle in Japanese histor...</td>\n",
       "      <td>80</td>\n",
       "    </tr>\n",
       "    <tr>\n",
       "      <th>912</th>\n",
       "      <td>64046</td>\n",
       "      <td>NEW YORK (Reuters) - The two top U.S. toymaker...</td>\n",
       "      <td>60</td>\n",
       "    </tr>\n",
       "    <tr>\n",
       "      <th>2918</th>\n",
       "      <td>55604</td>\n",
       "      <td>NEW YORK - United States stocks fell on Friday...</td>\n",
       "      <td>80</td>\n",
       "    </tr>\n",
       "    <tr>\n",
       "      <th>2742</th>\n",
       "      <td>77763</td>\n",
       "      <td>The new boss of scandal-hit US insurance broke...</td>\n",
       "      <td>60</td>\n",
       "    </tr>\n",
       "    <tr>\n",
       "      <th>...</th>\n",
       "      <td>...</td>\n",
       "      <td>...</td>\n",
       "      <td>...</td>\n",
       "    </tr>\n",
       "    <tr>\n",
       "      <th>932</th>\n",
       "      <td>82891</td>\n",
       "      <td>SBC Communications expects to cut 10,000 or mo...</td>\n",
       "      <td>60</td>\n",
       "    </tr>\n",
       "    <tr>\n",
       "      <th>1314</th>\n",
       "      <td>63792</td>\n",
       "      <td>British Defense Secretary Geoff Hoonconfirmed ...</td>\n",
       "      <td>100</td>\n",
       "    </tr>\n",
       "    <tr>\n",
       "      <th>4677</th>\n",
       "      <td>81588</td>\n",
       "      <td>One day after it appeared the New York Jets wo...</td>\n",
       "      <td>60</td>\n",
       "    </tr>\n",
       "    <tr>\n",
       "      <th>1391</th>\n",
       "      <td>76131</td>\n",
       "      <td>AFP - Several people were injured in a quot;bi...</td>\n",
       "      <td>40</td>\n",
       "    </tr>\n",
       "    <tr>\n",
       "      <th>1147</th>\n",
       "      <td>38403</td>\n",
       "      <td>The Palestinian groups yesterday carried out a...</td>\n",
       "      <td>60</td>\n",
       "    </tr>\n",
       "  </tbody>\n",
       "</table>\n",
       "<p>5000 rows × 3 columns</p>\n",
       "</div>"
      ],
      "text/plain": [
       "      Article Index                                               Part  \\\n",
       "1024          17267  The European Central Bank on Thursday raised i...   \n",
       "4483           9309  The biggest takeover battle in Japanese histor...   \n",
       "912           64046  NEW YORK (Reuters) - The two top U.S. toymaker...   \n",
       "2918          55604  NEW YORK - United States stocks fell on Friday...   \n",
       "2742          77763  The new boss of scandal-hit US insurance broke...   \n",
       "...             ...                                                ...   \n",
       "932           82891  SBC Communications expects to cut 10,000 or mo...   \n",
       "1314          63792  British Defense Secretary Geoff Hoonconfirmed ...   \n",
       "4677          81588  One day after it appeared the New York Jets wo...   \n",
       "1391          76131  AFP - Several people were injured in a quot;bi...   \n",
       "1147          38403  The Palestinian groups yesterday carried out a...   \n",
       "\n",
       "      Percentage  \n",
       "1024         100  \n",
       "4483          80  \n",
       "912           60  \n",
       "2918          80  \n",
       "2742          60  \n",
       "...          ...  \n",
       "932           60  \n",
       "1314         100  \n",
       "4677          60  \n",
       "1391          40  \n",
       "1147          60  \n",
       "\n",
       "[5000 rows x 3 columns]"
      ]
     },
     "execution_count": 5,
     "metadata": {},
     "output_type": "execute_result"
    }
   ],
   "source": [
    "shuffled_data"
   ]
  },
  {
   "cell_type": "code",
   "execution_count": 6,
   "metadata": {},
   "outputs": [],
   "source": [
    "shuffled_data = shuffled_data.sort_values(by=['Article Index'])"
   ]
  },
  {
   "cell_type": "code",
   "execution_count": 7,
   "metadata": {},
   "outputs": [
    {
     "data": {
      "text/html": [
       "<div>\n",
       "<style scoped>\n",
       "    .dataframe tbody tr th:only-of-type {\n",
       "        vertical-align: middle;\n",
       "    }\n",
       "\n",
       "    .dataframe tbody tr th {\n",
       "        vertical-align: top;\n",
       "    }\n",
       "\n",
       "    .dataframe thead th {\n",
       "        text-align: right;\n",
       "    }\n",
       "</style>\n",
       "<table border=\"1\" class=\"dataframe\">\n",
       "  <thead>\n",
       "    <tr style=\"text-align: right;\">\n",
       "      <th></th>\n",
       "      <th>Article Index</th>\n",
       "      <th>Part</th>\n",
       "      <th>Percentage</th>\n",
       "    </tr>\n",
       "  </thead>\n",
       "  <tbody>\n",
       "    <tr>\n",
       "      <th>422</th>\n",
       "      <td>52</td>\n",
       "      <td>After a tough year, Detroit's troubled carmake...</td>\n",
       "      <td>60</td>\n",
       "    </tr>\n",
       "    <tr>\n",
       "      <th>423</th>\n",
       "      <td>52</td>\n",
       "      <td>After a tough year, Detroit's troubled carmake...</td>\n",
       "      <td>80</td>\n",
       "    </tr>\n",
       "    <tr>\n",
       "      <th>424</th>\n",
       "      <td>52</td>\n",
       "      <td>After a tough year, Detroit's troubled carmake...</td>\n",
       "      <td>100</td>\n",
       "    </tr>\n",
       "    <tr>\n",
       "      <th>421</th>\n",
       "      <td>52</td>\n",
       "      <td>After a tough year, Detroit's troubled carmake...</td>\n",
       "      <td>40</td>\n",
       "    </tr>\n",
       "    <tr>\n",
       "      <th>420</th>\n",
       "      <td>52</td>\n",
       "      <td>After a tough year,</td>\n",
       "      <td>20</td>\n",
       "    </tr>\n",
       "    <tr>\n",
       "      <th>...</th>\n",
       "      <td>...</td>\n",
       "      <td>...</td>\n",
       "      <td>...</td>\n",
       "    </tr>\n",
       "    <tr>\n",
       "      <th>2087</th>\n",
       "      <td>119902</td>\n",
       "      <td>Reuters - After three years of playing down ex...</td>\n",
       "      <td>60</td>\n",
       "    </tr>\n",
       "    <tr>\n",
       "      <th>2089</th>\n",
       "      <td>119902</td>\n",
       "      <td>Reuters - After three years of playing down ex...</td>\n",
       "      <td>100</td>\n",
       "    </tr>\n",
       "    <tr>\n",
       "      <th>2088</th>\n",
       "      <td>119902</td>\n",
       "      <td>Reuters - After three years of playing down ex...</td>\n",
       "      <td>80</td>\n",
       "    </tr>\n",
       "    <tr>\n",
       "      <th>2085</th>\n",
       "      <td>119902</td>\n",
       "      <td>Reuters - After three years of playing</td>\n",
       "      <td>20</td>\n",
       "    </tr>\n",
       "    <tr>\n",
       "      <th>2086</th>\n",
       "      <td>119902</td>\n",
       "      <td>Reuters - After three years of playing down ex...</td>\n",
       "      <td>40</td>\n",
       "    </tr>\n",
       "  </tbody>\n",
       "</table>\n",
       "<p>5000 rows × 3 columns</p>\n",
       "</div>"
      ],
      "text/plain": [
       "      Article Index                                               Part  \\\n",
       "422              52  After a tough year, Detroit's troubled carmake...   \n",
       "423              52  After a tough year, Detroit's troubled carmake...   \n",
       "424              52  After a tough year, Detroit's troubled carmake...   \n",
       "421              52  After a tough year, Detroit's troubled carmake...   \n",
       "420              52                                After a tough year,   \n",
       "...             ...                                                ...   \n",
       "2087         119902  Reuters - After three years of playing down ex...   \n",
       "2089         119902  Reuters - After three years of playing down ex...   \n",
       "2088         119902  Reuters - After three years of playing down ex...   \n",
       "2085         119902             Reuters - After three years of playing   \n",
       "2086         119902  Reuters - After three years of playing down ex...   \n",
       "\n",
       "      Percentage  \n",
       "422           60  \n",
       "423           80  \n",
       "424          100  \n",
       "421           40  \n",
       "420           20  \n",
       "...          ...  \n",
       "2087          60  \n",
       "2089         100  \n",
       "2088          80  \n",
       "2085          20  \n",
       "2086          40  \n",
       "\n",
       "[5000 rows x 3 columns]"
      ]
     },
     "execution_count": 7,
     "metadata": {},
     "output_type": "execute_result"
    }
   ],
   "source": [
    "shuffled_data"
   ]
  },
  {
   "cell_type": "code",
   "execution_count": 8,
   "metadata": {},
   "outputs": [],
   "source": [
    "# save to new csv file\n",
    "shuffled_data.to_csv('../task1/output/shuffled_articles_stacked.csv')"
   ]
  },
  {
   "cell_type": "code",
   "execution_count": null,
   "metadata": {},
   "outputs": [],
   "source": []
  }
 ],
 "metadata": {
  "kernelspec": {
   "display_name": "session",
   "language": "python",
   "name": "python3"
  },
  "language_info": {
   "codemirror_mode": {
    "name": "ipython",
    "version": 3
   },
   "file_extension": ".py",
   "mimetype": "text/x-python",
   "name": "python",
   "nbconvert_exporter": "python",
   "pygments_lexer": "ipython3",
   "version": "3.9.6"
  }
 },
 "nbformat": 4,
 "nbformat_minor": 2
}
